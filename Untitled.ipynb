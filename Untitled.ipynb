{
 "cells": [
  {
   "cell_type": "code",
   "execution_count": 1,
   "id": "38bc07cf",
   "metadata": {},
   "outputs": [
    {
     "name": "stdout",
     "output_type": "stream",
     "text": [
      "Hello World\n"
     ]
    }
   ],
   "source": [
    "print(\"Hello World\")"
   ]
  },
  {
   "cell_type": "code",
   "execution_count": 2,
   "id": "8f775235",
   "metadata": {},
   "outputs": [
    {
     "data": {
      "text/plain": [
       "13"
      ]
     },
     "execution_count": 2,
     "metadata": {},
     "output_type": "execute_result"
    }
   ],
   "source": [
    "3+10"
   ]
  },
  {
   "cell_type": "code",
   "execution_count": 3,
   "id": "98ff72b8",
   "metadata": {},
   "outputs": [
    {
     "name": "stdout",
     "output_type": "stream",
     "text": [
      "8\n"
     ]
    }
   ],
   "source": [
    "a=3\n",
    "b=5\n",
    "print(a+b)"
   ]
  },
  {
   "cell_type": "code",
   "execution_count": 4,
   "id": "7df4ade0",
   "metadata": {},
   "outputs": [
    {
     "name": "stdout",
     "output_type": "stream",
     "text": [
      "Eli C. Dalton\n"
     ]
    }
   ],
   "source": [
    "print(\"Eli C. Dalton\")"
   ]
  },
  {
   "cell_type": "code",
   "execution_count": 5,
   "id": "ba6b7bad",
   "metadata": {},
   "outputs": [
    {
     "name": "stdout",
     "output_type": "stream",
     "text": [
      "16.25\n"
     ]
    }
   ],
   "source": [
    "a=15\n",
    "b=5\n",
    "c=4\n",
    "print(a+b/c)"
   ]
  },
  {
   "cell_type": "markdown",
   "id": "74db6f8c",
   "metadata": {},
   "source": [
    "# Heading1\n",
    "## Heading2\n",
    "### Heading3"
   ]
  },
  {
   "cell_type": "markdown",
   "id": "a6bd5798",
   "metadata": {},
   "source": [
    "### Heading4"
   ]
  },
  {
   "cell_type": "markdown",
   "id": "0a8ac0e8",
   "metadata": {},
   "source": [
    ">I never saw a moore. I never saw the sea. Yet, know I how the heather looks and what a wave must be."
   ]
  },
  {
   "cell_type": "markdown",
   "id": "d02e818c",
   "metadata": {},
   "source": [
    ">Hi how are you today?"
   ]
  },
  {
   "cell_type": "markdown",
   "id": "379fbfc9",
   "metadata": {},
   "source": [
    "*Eggs"
   ]
  },
  {
   "cell_type": "markdown",
   "id": "d22abb26",
   "metadata": {},
   "source": [
    "**Stop!**"
   ]
  },
  {
   "cell_type": "markdown",
   "id": "e31f48aa",
   "metadata": {},
   "source": [
    "*elegante*"
   ]
  },
  {
   "cell_type": "markdown",
   "id": "1d19ce0b",
   "metadata": {},
   "source": [
    "'The rain falls on the plains in Spain'"
   ]
  },
  {
   "attachments": {
    "image.png": {
     "image/png": "[encoded data removed]"
    }
   },
   "cell_type": "markdown",
   "id": "065b6cea",
   "metadata": {},
   "source": [
    "<a href=\"https://github.com/login?\">this link</a>\n",
    "![image.png](attachment:image.png)"
   ]
  },
  {
   "cell_type": "markdown",
   "id": "a494ce99",
   "metadata": {},
   "source": [
    "<a href=\"https://github.com/login?\">click me</a>"
   ]
  },
  {
   "cell_type": "markdown",
   "id": "892d4402",
   "metadata": {},
   "source": [
    "![Python Logo](https://www.python.org/static/community_logos/python-logo-master-v3-TM.png)"
   ]
  },
  {
   "cell_type": "markdown",
   "id": "66b01671",
   "metadata": {},
   "source": [
    "![guinea pig](https://www.google.com/imgres?imgurl=https%3A%2F%2Fwoodgreen.org.uk%2Fimage%2Fimage%2Fimage%2FK2OAmfUaimtgOy86S1lHsKiuLMh4fQpxvCBjfIeC.jpeg%3Fw%3D800%26h%3D422%26fit%3Dcrop-center&imgrefurl=https%3A%2F%2Fwoodgreen.org.uk%2Fpet-advice%2Farticle%2Fguinea-pigs-your-day-to-day-guide&tbnid=VcHhxG363NcEKM&vet=12ahUKEwj86bvkssryAhUMQKwKHUMjDYIQMygJegUIARDJAg..i&docid=U6zgvK3ep7-4cM&w=800&h=422&q=guinea%20pigs&ved=2ahUKEwj86bvkssryAhUMQKwKHUMjDYIQMygJegUIARDJAg)"
   ]
  },
  {
   "cell_type": "markdown",
   "id": "79cdcdac",
   "metadata": {},
   "source": [
    "![guinea pig](https://www.google.com/url?sa=i&url=https%3A%2F%2Fwww.four-paws.org%2Four-stories%2Fpublications-guides%2Fa-natural-life-for-a-guinea-pig&psig=AOvVaw23502Jm3qaw6YqcI7Tc9ZK&ust=1629919862216000&source=images&cd=vfe&ved=0CAsQjRxqFwoTCLDayuayyvICFQAAAAAdAAAAABAF)"
   ]
  },
  {
   "cell_type": "markdown",
   "id": "53b3b833",
   "metadata": {},
   "source": [
    "![guinea pigs]("
   ]
  }
 ],
 "metadata": {
  "kernelspec": {
   "display_name": "Python 3",
   "language": "python",
   "name": "python3"
  },
  "language_info": {
   "codemirror_mode": {
    "name": "ipython",
    "version": 3
   },
   "file_extension": ".py",
   "mimetype": "text/x-python",
   "name": "python",
   "nbconvert_exporter": "python",
   "pygments_lexer": "ipython3",
   "version": "3.8.8"
  }
 },
 "nbformat": 4,
 "nbformat_minor": 5
}
